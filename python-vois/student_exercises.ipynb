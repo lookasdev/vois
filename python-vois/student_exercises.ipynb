{
 "cells": [
  {
   "cell_type": "markdown",
   "id": "08c2e1bd",
   "metadata": {},
   "source": [
    "### Exercise 1\n",
    "Define a Pydantic `User` model with fields `id: int`, `name: str`, and validate that `age` is a positive integer.\n",
    "\n",
    "(If you install pydantic v2, you will need to replace @validator with @field_validator)"
   ]
  },
  {
   "cell_type": "code",
   "execution_count": 18,
   "id": "3213e6e8",
   "metadata": {},
   "outputs": [
    {
     "name": "stdout",
     "output_type": "stream",
     "text": [
      "id=1 name='Alice' age=25\n"
     ]
    }
   ],
   "source": [
    "# !pip install pydantic\n",
    "# Reminder: In notebooks shell commands are executed with !\n",
    "from pydantic import BaseModel, field_validator\n",
    "\n",
    "class User(BaseModel):\n",
    "    id: int\n",
    "    name: str\n",
    "    age: int\n",
    "\n",
    "    @field_validator('age')\n",
    "    def age_positive(cls, v):\n",
    "        if (v > 0):\n",
    "            return v\n",
    "\n",
    "# Test\n",
    "user = User(id=1, name='Alice', age=25)\n",
    "print(user)"
   ]
  },
  {
   "cell_type": "markdown",
   "id": "1a46b3ae",
   "metadata": {},
   "source": [
    "### Exercise 2\n",
    "Extend the `User` model to include an optional `email` field validated as an email address."
   ]
  },
  {
   "cell_type": "code",
   "execution_count": 12,
   "id": "fd9f95e8",
   "metadata": {},
   "outputs": [
    {
     "name": "stdout",
     "output_type": "stream",
     "text": [
      "bob@example.com\n"
     ]
    }
   ],
   "source": [
    "# !pip install pydantic[email]\n",
    "from pydantic import BaseModel, EmailStr\n",
    "\n",
    "class User(BaseModel):\n",
    "    id: int\n",
    "    name: str\n",
    "    email: EmailStr = None\n",
    "\n",
    "# Test\n",
    "u = User(id=2, name='Bob', email='bob@example.com')\n",
    "print(u.email)"
   ]
  },
  {
   "cell_type": "markdown",
   "id": "113bafc3",
   "metadata": {},
   "source": [
    "### Exercise 3\n",
    "Create a Pydantic `Post` model with `title: str`, `content: str`, and `tags: List[str]` default to an empty list."
   ]
  },
  {
   "cell_type": "code",
   "execution_count": 19,
   "id": "924b8a1d",
   "metadata": {},
   "outputs": [
    {
     "name": "stdout",
     "output_type": "stream",
     "text": [
      "[]\n"
     ]
    }
   ],
   "source": [
    "from pydantic import BaseModel\n",
    "from typing import List\n",
    "\n",
    "class Post(BaseModel):\n",
    "    title: str\n",
    "    content: str\n",
    "    tags: List[str] = []\n",
    "\n",
    "post = Post(title='Hello', content='World')\n",
    "print(post.tags)"
   ]
  },
  {
   "cell_type": "markdown",
   "id": "85f19292",
   "metadata": {},
   "source": [
    "### Exercise 4\n",
    "Generate a 3x3 NumPy array of zeros and then replace the diagonal with ones."
   ]
  },
  {
   "cell_type": "code",
   "execution_count": 17,
   "id": "99ca1ffc",
   "metadata": {},
   "outputs": [
    {
     "name": "stdout",
     "output_type": "stream",
     "text": [
      "[[1. 0. 0.]\n",
      " [0. 1. 0.]\n",
      " [0. 0. 1.]]\n"
     ]
    }
   ],
   "source": [
    "# !pip install numpy\n",
    "import numpy as np\n",
    "\n",
    "arr = np.zeros((3,3))\n",
    "for i in range(3):\n",
    "    arr[i, i] = 1\n",
    "\n",
    "print(arr)"
   ]
  },
  {
   "cell_type": "markdown",
   "id": "7348283a",
   "metadata": {},
   "source": [
    "### Exercise 5\n",
    "Compute the mean and standard deviation of a given NumPy array `data`."
   ]
  },
  {
   "cell_type": "code",
   "execution_count": 21,
   "id": "90c68729",
   "metadata": {},
   "outputs": [
    {
     "name": "stdout",
     "output_type": "stream",
     "text": [
      "3.0 1.4142135623730951\n"
     ]
    }
   ],
   "source": [
    "import numpy as np\n",
    "\n",
    "data = np.array([1,2,3,4,5])\n",
    "mean = np.mean(data)\n",
    "std = np.std(data)\n",
    "print(mean, std)"
   ]
  },
  {
   "cell_type": "markdown",
   "id": "81fe145c",
   "metadata": {},
   "source": [
    "### Exercise 6\n",
    "Use NumPy boolean indexing to extract all positive values from `arr`."
   ]
  },
  {
   "cell_type": "code",
   "execution_count": 22,
   "id": "28a5fd3d",
   "metadata": {},
   "outputs": [
    {
     "name": "stdout",
     "output_type": "stream",
     "text": [
      "[2 5]\n"
     ]
    }
   ],
   "source": [
    "import numpy as np\n",
    "\n",
    "arr = np.array([-1, 0, 2, 5, -3])\n",
    "positive = arr[arr>0]\n",
    "print(positive)"
   ]
  },
  {
   "cell_type": "markdown",
   "id": "33de0d92",
   "metadata": {},
   "source": [
    "### Exercise 7\n",
    "Perform matrix multiplication between two 2x2 NumPy arrays `A` and `B`."
   ]
  },
  {
   "cell_type": "code",
   "execution_count": 24,
   "id": "ca083f9d",
   "metadata": {},
   "outputs": [
    {
     "name": "stdout",
     "output_type": "stream",
     "text": [
      "[[19 22]\n",
      " [43 50]]\n"
     ]
    }
   ],
   "source": [
    "import numpy as np\n",
    "\n",
    "A = np.array([[1,2],[3,4]])\n",
    "B = np.array([[5,6],[7,8]])\n",
    "C = np.dot(A,B)\n",
    "print(C)"
   ]
  },
  {
   "cell_type": "markdown",
   "id": "f0388215",
   "metadata": {},
   "source": [
    "### Exercise 8\n",
    "Plot a line chart of `y = x^2` for x from 0 to 10 using Matplotlib."
   ]
  },
  {
   "cell_type": "code",
   "execution_count": 30,
   "id": "2104dbf2",
   "metadata": {},
   "outputs": [
    {
     "data": {
      "image/png": "[encoded data removed]",
      "text/plain": [
       "<Figure size 640x480 with 1 Axes>"
      ]
     },
     "metadata": {},
     "output_type": "display_data"
    }
   ],
   "source": [
    "# !pip install matplotlib\n",
    "import matplotlib.pyplot as plt\n",
    "\n",
    "x = list(range(11))\n",
    "y = [i**2 for i in x]\n",
    "plt.plot(x, y)\n",
    "plt.title('y = x^2')\n",
    "plt.show()"
   ]
  },
  {
   "cell_type": "markdown",
   "id": "d29ec821",
   "metadata": {},
   "source": [
    "### Exercise 9\n",
    "Create a bar chart showing counts of items in the dict `{'a': 5, 'b': 3, 'c': 8}`."
   ]
  },
  {
   "cell_type": "code",
   "execution_count": 32,
   "id": "ac9f09fd",
   "metadata": {},
   "outputs": [
    {
     "data": {
      "image/png": "[encoded data removed]",
      "text/plain": [
       "<Figure size 640x480 with 1 Axes>"
      ]
     },
     "metadata": {},
     "output_type": "display_data"
    }
   ],
   "source": [
    "import matplotlib.pyplot as plt\n",
    "\n",
    "counts = {'a':5,'b':3,'c':8}\n",
    "plt.bar(counts.keys(), counts.values())\n",
    "plt.xlabel('Item')\n",
    "plt.ylabel('Count')\n",
    "plt.show()"
   ]
  },
  {
   "cell_type": "markdown",
   "id": "2c11c8ef",
   "metadata": {},
   "source": [
    "### Exercise 10\n",
    "Use Pandas to load a CSV file downloaded from the internet and renamed as `data.csv` and display the first 5 rows."
   ]
  },
  {
   "cell_type": "code",
   "execution_count": 36,
   "id": "e2a48487",
   "metadata": {},
   "outputs": [
    {
     "name": "stdout",
     "output_type": "stream",
     "text": [
      "CSV file created. Preview:\n",
      "      Name  Age         City\n",
      "0    Alice   30     New York\n",
      "1      Bob   25  Los Angeles\n",
      "2  Charlie   35      Chicago\n",
      "3    Diana   28      Houston\n",
      "4    Ethan   32      Phoenix\n"
     ]
    }
   ],
   "source": [
    "import pandas as pd\n",
    "\n",
    "# Sample data\n",
    "data = {\n",
    "    'Name': ['Alice', 'Bob', 'Charlie', 'Diana', 'Ethan'],\n",
    "    'Age': [30, 25, 35, 28, 32],\n",
    "    'City': ['New York', 'Los Angeles', 'Chicago', 'Houston', 'Phoenix']\n",
    "}\n",
    "\n",
    "# Create DataFrame and save to CSV\n",
    "# df = pd.read_csv('data.csv')\n",
    "df = pd.DataFrame(data)\n",
    "df.to_csv('data.csv', index=False)\n",
    "\n",
    "# Verify it worked\n",
    "print(\"CSV file created. Preview:\")\n",
    "print(df.head())"
   ]
  },
  {
   "cell_type": "markdown",
   "id": "0d0b604e",
   "metadata": {},
   "source": [
    "### Exercise 11\n",
    "Plot a scatter plot from DataFrame columns `df['x']` vs `df['y']`."
   ]
  },
  {
   "cell_type": "code",
   "execution_count": 39,
   "id": "0814f96f",
   "metadata": {},
   "outputs": [
    {
     "data": {
      "image/png": "[encoded data removed]",
      "text/plain": [
       "<Figure size 640x480 with 1 Axes>"
      ]
     },
     "metadata": {},
     "output_type": "display_data"
    }
   ],
   "source": [
    "import matplotlib.pyplot as plt\n",
    "import pandas as pd\n",
    "\n",
    "df = pd.DataFrame({'x': [1,2,3], 'y': [4,5,6]})\n",
    "plt.scatter(x, y)\n",
    "plt.show()"
   ]
  },
  {
   "cell_type": "markdown",
   "id": "f0643fdf",
   "metadata": {},
   "source": [
    "### Exercise 12\n",
    "Write a pytest test for function `add(a, b)` that asserts `add(2,3)==5` and `add(-1,1)==0`."
   ]
  },
  {
   "cell_type": "code",
   "execution_count": 46,
   "id": "45d17c95",
   "metadata": {},
   "outputs": [],
   "source": [
    "# file: test_math.py\n",
    "# from mymodule import add\n",
    "\n",
    "def test_add():\n",
    "    assert add(2, 3) == 5\n",
    "    assert add(-1, 1) == 0\n",
    "\n",
    "# file: mymodule.py\n",
    "def add(a, b):\n",
    "    return a + b"
   ]
  },
  {
   "cell_type": "markdown",
   "id": "1bd3591e",
   "metadata": {},
   "source": [
    "### Exercise 13\n",
    "Write a pytest fixture that provides a temporary directory and test that file creation works."
   ]
  },
  {
   "cell_type": "code",
   "execution_count": 50,
   "id": "77b56609",
   "metadata": {},
   "outputs": [],
   "source": [
    "# file: test_file.py\n",
    "import pytest\n",
    "import os\n",
    "\n",
    "@pytest.fixture\n",
    "def tmp_dir(tmp_path):\n",
    "    return tmp_path\n",
    "\n",
    "def test_create(tmp_dir):\n",
    "    file_path = tmp_dir / 'test.txt'\n",
    "    with open(file_path, 'w') as f:\n",
    "        f.write('hello')\n",
    "    assert os.path.exists(file_path)\n"
   ]
  },
  {
   "cell_type": "markdown",
   "id": "b987040c",
   "metadata": {},
   "source": [
    "### Exercise 14\n",
    "Parametrize a pytest test to check `multiply(a,b)` for pairs (2,3),(0,5),(7,1)."
   ]
  },
  {
   "cell_type": "code",
   "execution_count": 49,
   "id": "b330d7c9",
   "metadata": {},
   "outputs": [],
   "source": [
    "# file: test_math.py\n",
    "import pytest\n",
    "# from mymodule import multiply\n",
    "\n",
    "@pytest.mark.parametrize('a,b,expected', [\n",
    "    (2,3,6),\n",
    "    (0,5,0),\n",
    "    (7,1,7),\n",
    "])\n",
    "def test_multiply(a, b, expected):\n",
    "    assert multiply(a, b) == expected\n",
    "\n",
    "# file mymodule.py\n",
    "def multiply(a, b):\n",
    "    return a * b\n",
    "    \n"
   ]
  },
  {
   "cell_type": "markdown",
   "id": "66fe753a",
   "metadata": {},
   "source": [
    "### Exercise 15\n",
    "There are 4 test for the incomplete function. Fill in the spaces so that the code will run properly."
   ]
  },
  {
   "cell_type": "code",
   "execution_count": 53,
   "id": "0b7f4122",
   "metadata": {},
   "outputs": [
    {
     "name": "stdout",
     "output_type": "stream",
     "text": [
      "tests passed!\n"
     ]
    }
   ],
   "source": [
    "def operation(a, b):\n",
    "    return a ** b\n",
    "\n",
    "def test_operation():\n",
    "    assert operation(2, 3) == 8\n",
    "    assert operation(67, 0) == 1\n",
    "    assert operation(2, 2) != 2\n",
    "    assert operation(8, 2) == 64\n",
    "\n",
    "test_operation()\n",
    "print('tests passed!')"
   ]
  },
  {
   "cell_type": "markdown",
   "id": "e782e313",
   "metadata": {},
   "source": [
    "### Exercise 16\n",
    "Use `pytest.raises` to test that `divide(1,0)` raises a proper error."
   ]
  },
  {
   "cell_type": "code",
   "execution_count": 56,
   "id": "88789ea6",
   "metadata": {},
   "outputs": [],
   "source": [
    "# file: test_math.py\n",
    "import pytest\n",
    "# from mymodule import divide\n",
    "\n",
    "def test_divide_zero():\n",
    "    with pytest.raises(ZeroDivisionError):\n",
    "        divide(1, 0)\n",
    "\n",
    "# file: mymodule.py\n",
    "def divide(a, b):\n",
    "    return a / b\n"
   ]
  },
  {
   "cell_type": "markdown",
   "id": "2dad83b8",
   "metadata": {},
   "source": [
    "### Exercise 17\n",
    "Use `os` to list all files in the current directory and filter only `.py` files."
   ]
  },
  {
   "cell_type": "code",
   "execution_count": 57,
   "id": "6c81a699",
   "metadata": {},
   "outputs": [
    {
     "name": "stdout",
     "output_type": "stream",
     "text": [
      "['test.py']\n"
     ]
    }
   ],
   "source": [
    "import os\n",
    "\n",
    "files = os.listdir('.')\n",
    "py_files = [f for f in files if f.endswith('.py')]\n",
    "print(py_files)"
   ]
  },
  {
   "cell_type": "markdown",
   "id": "b36da2fa",
   "metadata": {},
   "source": [
    "### Exercise 18\n",
    "Measure execution time of a function `compute()` using `time.time()`."
   ]
  },
  {
   "cell_type": "code",
   "execution_count": 61,
   "id": "9ec06c92",
   "metadata": {},
   "outputs": [
    {
     "name": "stdout",
     "output_type": "stream",
     "text": [
      "Elapsed: 0.020985841751098633 seconds\n"
     ]
    }
   ],
   "source": [
    "# file mymodule.py\n",
    "def compute() :\n",
    "    return sum(range(1000000))\n",
    "\n",
    "import time\n",
    "# from mymodule import compute\n",
    "\n",
    "start = time.time()\n",
    "compute()\n",
    "elapsed = time.time() - start\n",
    "print(f'Elapsed: {elapsed} seconds')\n",
    "\n"
   ]
  },
  {
   "cell_type": "markdown",
   "id": "bb2a3996",
   "metadata": {},
   "source": [
    "### Exercise 19\n",
    "Load JSON data from a `.json` file and access one of the keys."
   ]
  },
  {
   "cell_type": "code",
   "execution_count": 63,
   "id": "096d2b27",
   "metadata": {},
   "outputs": [
    {
     "name": "stdout",
     "output_type": "stream",
     "text": [
      "Settings: {'theme': 'dark', 'volume': 75}\n",
      "Theme: dark\n"
     ]
    }
   ],
   "source": [
    "import json\n",
    "\n",
    "# Step 1: Create a JSON file\n",
    "data = {\n",
    "    \"settings\": {\n",
    "        \"theme\": \"dark\",\n",
    "        \"volume\": 75\n",
    "    },\n",
    "    \"version\": \"1.0\"\n",
    "}\n",
    "\n",
    "with open('config.json', 'w') as f:\n",
    "    json.dump(data, f)\n",
    "\n",
    "# Step 2: Read the JSON file and access a key\n",
    "with open('config.json') as f:\n",
    "    cfg = json.load(f)\n",
    "\n",
    "settings = cfg['settings']\n",
    "print(\"Settings:\", settings)\n",
    "print(\"Theme:\", settings['theme'])\n"
   ]
  },
  {
   "cell_type": "markdown",
   "id": "34277a04",
   "metadata": {},
   "source": [
    "### Exercise 20\n",
    "Use `re` to find all email addresses in the string `text`."
   ]
  },
  {
   "cell_type": "code",
   "execution_count": 67,
   "id": "0b4126ed",
   "metadata": {},
   "outputs": [
    {
     "name": "stdout",
     "output_type": "stream",
     "text": [
      "['support@example.com', 'admin@test.org']\n"
     ]
    }
   ],
   "source": [
    "import re\n",
    "\n",
    "text = \"Contact us at support@example.com or admin@test.org\"\n",
    "emails = re.findall(r'[a-zA-Z0-9._%+-]+@[a-zA-Z0-9.-]+\\.[a-zA-Z]{2,}', text)\n",
    "print(emails)"
   ]
  },
  {
   "cell_type": "markdown",
   "id": "374a79eb",
   "metadata": {},
   "source": [
    "### Exercise 21\n",
    "Use `time.sleep` to pause execution for 2 seconds."
   ]
  },
  {
   "cell_type": "code",
   "execution_count": 71,
   "id": "54eada4c",
   "metadata": {},
   "outputs": [
    {
     "name": "stdout",
     "output_type": "stream",
     "text": [
      "Start\n",
      "End\n"
     ]
    }
   ],
   "source": [
    "import time\n",
    "\n",
    "print('Start')\n",
    "time.sleep(2)\n",
    "print('End')"
   ]
  },
  {
   "cell_type": "markdown",
   "id": "621be8de",
   "metadata": {},
   "source": [
    "### Exercise 22\n",
    "Rename a file `old.txt` to `new.txt` using `os.rename`."
   ]
  },
  {
   "cell_type": "code",
   "execution_count": 70,
   "id": "8e5c8af8",
   "metadata": {},
   "outputs": [
    {
     "name": "stdout",
     "output_type": "stream",
     "text": [
      "Renamed!\n"
     ]
    }
   ],
   "source": [
    "import os\n",
    "\n",
    "# Source file path\n",
    "source = 'old.txt'\n",
    "\n",
    "# destination file path\n",
    "dest = 'new.txt'\n",
    "\n",
    "os.rename(source, dest)\n",
    "print('Renamed!')"
   ]
  },
  {
   "cell_type": "markdown",
   "id": "94d79e05",
   "metadata": {},
   "source": [
    "### Exercise 23\n",
    "Use Hugging Face Transformers to load the `distilbert-base-uncased` tokenizer."
   ]
  },
  {
   "cell_type": "code",
   "execution_count": 93,
   "id": "a33ce8db",
   "metadata": {},
   "outputs": [
    {
     "name": "stdout",
     "output_type": "stream",
     "text": [
      "['hello', 'world']\n"
     ]
    }
   ],
   "source": [
    "# !pip install transformers\n",
    "from transformers import AutoTokenizer\n",
    "\n",
    "tokenizer = AutoTokenizer.from_pretrained(\"distilbert-base-uncased\")\n",
    "print(tokenizer.tokenize(\"Hello world\"))"
   ]
  },
  {
   "cell_type": "markdown",
   "id": "cd1bd7b1",
   "metadata": {},
   "source": [
    "### Exercise 24\n",
    "Use NumPy to generate 100 random samples from a normal distribution (mean=0,std=1)."
   ]
  },
  {
   "cell_type": "code",
   "execution_count": 86,
   "id": "42cb0f61",
   "metadata": {},
   "outputs": [
    {
     "name": "stdout",
     "output_type": "stream",
     "text": [
      "-0.23909529130448806 1.0410139291087837\n"
     ]
    }
   ],
   "source": [
    "import numpy as np\n",
    "\n",
    "samples = np.random.normal(loc=0, scale=1, size=100)\n",
    "print(samples.mean(), samples.std())"
   ]
  },
  {
   "cell_type": "markdown",
   "id": "cbfa5553",
   "metadata": {},
   "source": [
    "### Exercise 25\n",
    "Create a Pydantic model `Settings` that reads environment variables using `BaseSettings`."
   ]
  },
  {
   "cell_type": "code",
   "execution_count": 91,
   "id": "05b93de3",
   "metadata": {},
   "outputs": [
    {
     "name": "stdout",
     "output_type": "stream",
     "text": [
      "test_app False\n"
     ]
    }
   ],
   "source": [
    "# !pip install pydantic-settings\n",
    "from pydantic_settings import BaseSettings\n",
    "\n",
    "class Settings(BaseSettings):\n",
    "    app_name: str = \"test_app\"\n",
    "    debug: bool = False\n",
    "\n",
    "settings = Settings()\n",
    "print(settings.app_name, settings.debug)"
   ]
  }
 ],
 "metadata": {
  "kernelspec": {
   "display_name": "Python 3 (ipykernel)",
   "language": "python",
   "name": "python3"
  },
  "language_info": {
   "codemirror_mode": {
    "name": "ipython",
    "version": 3
   },
   "file_extension": ".py",
   "mimetype": "text/x-python",
   "name": "python",
   "nbconvert_exporter": "python",
   "pygments_lexer": "ipython3",
   "version": "3.12.10"
  }
 },
 "nbformat": 4,
 "nbformat_minor": 5
}

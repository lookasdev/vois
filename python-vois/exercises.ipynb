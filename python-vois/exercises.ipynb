{
 "cells": [
  {
   "cell_type": "markdown",
   "id": "a1235200",
   "metadata": {},
   "source": [
    "# Python: a practical deep dive"
   ]
  },
  {
   "cell_type": "markdown",
   "id": "b83af603",
   "metadata": {},
   "source": [
    "## Section 1: Environment Management\n",
    "\n",
    "In these examples, we create and inspect conda environments and see why they are important."
   ]
  },
  {
   "cell_type": "code",
   "execution_count": 1,
   "id": "aefbd229",
   "metadata": {},
   "outputs": [],
   "source": [
    "# Environment Example 1: Create a new conda environment\n",
    "# This command creates an environment named 'pyIntro' with Python 3.9\n",
    "# !conda create --name pyIntro python=3.9 -y\n",
    "\n",
    "# Reminder: In notebooks shell commands are executed with !"
   ]
  },
  {
   "cell_type": "code",
   "execution_count": 2,
   "id": "f45c00f9",
   "metadata": {},
   "outputs": [],
   "source": [
    "# Environment Example 2: Display conda information\n",
    "# !conda info"
   ]
  },
  {
   "cell_type": "code",
   "execution_count": 3,
   "id": "89a90d6f",
   "metadata": {},
   "outputs": [],
   "source": [
    "# Environment Example 3: Show Python executable and installed packages\n",
    "# import sys\n",
    "# print('Python executable:', sys.executable)\n",
    "\n",
    "# List some installed packages\n",
    "# !pip freeze | head -n 5"
   ]
  },
  {
   "cell_type": "code",
   "execution_count": 4,
   "id": "d194d203",
   "metadata": {},
   "outputs": [],
   "source": [
    "# Environment Example 4: Quick package list snippet\n",
    "# !pip list | head -n 5"
   ]
  },
  {
   "cell_type": "markdown",
   "id": "12e405b0",
   "metadata": {},
   "source": [
    "## Section 2: Try/Except Blocks\n",
    "\n",
    "In this section we see how to gracefully handle errors in Python."
   ]
  },
  {
   "cell_type": "code",
   "execution_count": 5,
   "id": "41ae75b3",
   "metadata": {},
   "outputs": [
    {
     "name": "stdout",
     "output_type": "stream",
     "text": [
      "Error: File not found! [Errno 2] No such file or directory: 'nonexistent_file.txt'\n"
     ]
    }
   ],
   "source": [
    "# Try/Except Example 1: Handling file reading errors\n",
    "try:\n",
    "    with open('nonexistent_file.txt', 'r') as f:\n",
    "        content = f.read()\n",
    "except FileNotFoundError as e:\n",
    "    print('Error: File not found!', e)"
   ]
  },
  {
   "cell_type": "code",
   "execution_count": 6,
   "id": "3b69e016",
   "metadata": {},
   "outputs": [
    {
     "name": "stdout",
     "output_type": "stream",
     "text": [
      "Cannot divide by zero!\n"
     ]
    }
   ],
   "source": [
    "# Try/Except Example 2: Catching division errors\n",
    "try:\n",
    "    result = 10 / 0\n",
    "except ZeroDivisionError:\n",
    "    print('Cannot divide by zero!')"
   ]
  },
  {
   "cell_type": "markdown",
   "id": "4c1c868f",
   "metadata": {},
   "source": [
    "## Section 3: Core Modules – OS, Time, JSON, and Regular Expressions\n",
    "\n",
    "Learn to interact with the operating system, work with time, handle JSON data, and use regular expressions."
   ]
  },
  {
   "cell_type": "code",
   "execution_count": 7,
   "id": "fe47c794",
   "metadata": {},
   "outputs": [
    {
     "name": "stdout",
     "output_type": "stream",
     "text": [
      "Files: ['Screenshot 2025-03-17 at 14.33.40.png', 'Screenshot 2025-06-07 at 15.19.33.png', 'exercises.ipynb', 'Screenshot 2025-05-02 at 11.07.55.png', 'Screenshot 2025-06-12 at 12.47.32.png', 'disertatie Calin Andrei.zip', '.DS_Store', '.localized', 'info.txt', 'smth.json', 'others', 'vf-tmf-sd-wan', 'proxy-negotiate', 'Screenshot 2025-03-17 at 14.28.33.png', 'Screenshot 2025-06-07 at 15.28.45.png', '.mypy_cache', 'andrei', 'Screenshot 2025-04-28 at 12.13.04.png', 'Screenshot 2025-06-12 at 14.52.45.png', 'Screenshot 2025-04-30 at 10.29.23.png', 'import json.py', 'Screenshot 2025-05-02 at 11.12.55.png', 'Screenshot 2025-05-02 at 11.12.40.png', 'VOIS_summer_school_Python.pptx', 'Screenshot 2025-05-02 at 11.08.08.png', 'Monitoring.pptx', 'Screenshot 2025-06-19 at 10.25.43.png', 'signature.png']\n"
     ]
    }
   ],
   "source": [
    "# OS Example 1: Listing files in the current directory\n",
    "import os\n",
    "files = os.listdir('.')\n",
    "print('Files:', files)"
   ]
  },
  {
   "cell_type": "code",
   "execution_count": 1,
   "id": "f239c203",
   "metadata": {},
   "outputs": [
    {
     "name": "stdout",
     "output_type": "stream",
     "text": [
      "Current Directory: C:\\Users\\lucas\\Desktop\\python-vois\n"
     ]
    }
   ],
   "source": [
    "# OS Example 2: Display current working directory\n",
    "import os\n",
    "print('Current Directory:', os.getcwd())"
   ]
  },
  {
   "cell_type": "code",
   "execution_count": 8,
   "id": "09e35d5a",
   "metadata": {},
   "outputs": [
    {
     "name": "stdout",
     "output_type": "stream",
     "text": [
      "Total: 499999500000\n",
      "Time elapsed (s): 0.062172889709472656\n"
     ]
    }
   ],
   "source": [
    "# Time Example 1: Timing a code snippet\n",
    "import time\n",
    "start = time.time()\n",
    "total = sum(range(1000000))\n",
    "end = time.time()\n",
    "print('Total:', total)\n",
    "print('Time elapsed (s):', end - start)"
   ]
  },
  {
   "cell_type": "code",
   "execution_count": 10,
   "id": "15621294",
   "metadata": {},
   "outputs": [
    {
     "name": "stdout",
     "output_type": "stream",
     "text": [
      "Sleeping for 1 sec...\n",
      "Awake!\n"
     ]
    }
   ],
   "source": [
    "# Time Example 2: Using sleep\n",
    "import time\n",
    "print('Sleeping for 1 sec...')\n",
    "time.sleep(1)\n",
    "print('Awake!')"
   ]
  },
  {
   "cell_type": "code",
   "execution_count": 11,
   "id": "c5da5d1e",
   "metadata": {},
   "outputs": [
    {
     "name": "stdout",
     "output_type": "stream",
     "text": [
      "Serialized JSON:\n",
      " {\n",
      "  \"name\": \"Alice\",\n",
      "  \"age\": 30,\n",
      "  \"city\": \"Wonderland\"\n",
      "}\n",
      "Loaded data: {'name': 'Alice', 'age': 30, 'city': 'Wonderland'}\n"
     ]
    }
   ],
   "source": [
    "# JSON Example 1: Serialize and deserialize a dictionary\n",
    "import json\n",
    "data = {'name': 'Alice', 'age': 30, 'city': 'Wonderland'}\n",
    "json_str = json.dumps(data, indent=2)\n",
    "print('Serialized JSON:\\n', json_str)\n",
    "data_loaded = json.loads(json_str)\n",
    "print('Loaded data:', data_loaded)"
   ]
  },
  {
   "cell_type": "code",
   "execution_count": 12,
   "id": "185db367",
   "metadata": {},
   "outputs": [
    {
     "name": "stdout",
     "output_type": "stream",
     "text": [
      "{\"key\": \"value\"}\n"
     ]
    }
   ],
   "source": [
    "# JSON Example 2: Simple JSON dump\n",
    "import json\n",
    "print(json.dumps({\"key\": \"value\"}))"
   ]
  },
  {
   "cell_type": "code",
   "execution_count": 13,
   "id": "0b334f83",
   "metadata": {},
   "outputs": [
    {
     "name": "stdout",
     "output_type": "stream",
     "text": [
      "Emails found: ['support@example.com', 'sales@example.org.']\n"
     ]
    }
   ],
   "source": [
    "# Regular Expressions Example 1: Extracting emails\n",
    "import re\n",
    "text = 'Contact us at support@example.com or sales@example.org.'\n",
    "emails = re.findall(r'[\\w\\.-]+@[\\w\\.-]+', text)\n",
    "print('Emails found:', emails)"
   ]
  },
  {
   "cell_type": "code",
   "execution_count": 14,
   "id": "00e60b47",
   "metadata": {},
   "outputs": [
    {
     "name": "stdout",
     "output_type": "stream",
     "text": [
      "12345\n"
     ]
    }
   ],
   "source": [
    "# Regular Expressions Example 2: Find digits in a string\n",
    "import re\n",
    "match = re.search(r'\\d+', 'Order #12345')\n",
    "print(match.group() if match else 'No digits found')"
   ]
  },
  {
   "cell_type": "markdown",
   "id": "981043be",
   "metadata": {},
   "source": [
    "## Section 4: Data Manipulation with Pandas and NumPy\n",
    "\n",
    "Here we explore creating and merging DataFrames with pandas and performing array operations with NumPy."
   ]
  },
  {
   "cell_type": "code",
   "execution_count": 15,
   "id": "c4d11e51",
   "metadata": {},
   "outputs": [
    {
     "name": "stdout",
     "output_type": "stream",
     "text": [
      "Merged DataFrame:\n",
      "   ID  Value  Score\n",
      "0   1   10.0    NaN\n",
      "1   2   20.0   80.0\n",
      "2   3   30.0   90.0\n",
      "3   4    NaN  100.0\n"
     ]
    }
   ],
   "source": [
    "# Pandas Example 1: Merging two DataFrames\n",
    "import pandas as pd\n",
    "\n",
    "df1 = pd.DataFrame({'ID': [1, 2, 3], 'Value': [10, 20, 30]})\n",
    "df2 = pd.DataFrame({'ID': [2, 3, 4], 'Score': [80, 90, 100]})\n",
    "merged_df = pd.merge(df1, df2, on='ID', how='outer')\n",
    "print('Merged DataFrame:')\n",
    "print(merged_df)"
   ]
  },
  {
   "cell_type": "code",
   "execution_count": 16,
   "id": "456f6667",
   "metadata": {},
   "outputs": [
    {
     "name": "stdout",
     "output_type": "stream",
     "text": [
      "   A  B\n",
      "0  1  4\n",
      "1  2  5\n",
      "2  3  6\n"
     ]
    }
   ],
   "source": [
    "# Pandas Example 2: Creating a DataFrame\n",
    "import pandas as pd\n",
    "df = pd.DataFrame({'A': [1, 2, 3], 'B': [4, 5, 6]})\n",
    "print(df)"
   ]
  },
  {
   "cell_type": "code",
   "execution_count": 17,
   "id": "e59dd624",
   "metadata": {},
   "outputs": [
    {
     "name": "stdout",
     "output_type": "stream",
     "text": [
      "Array a: [0 1 2 3 4 5 6 7 8 9]\n",
      "Array b (a*2): [ 0  2  4  6  8 10 12 14 16 18]\n"
     ]
    }
   ],
   "source": [
    "# NumPy Example 1: Array operations and broadcasting\n",
    "import numpy as np\n",
    "a = np.arange(10)\n",
    "b = a * 2\n",
    "print('Array a:', a)\n",
    "print('Array b (a*2):', b)"
   ]
  },
  {
   "cell_type": "code",
   "execution_count": 18,
   "id": "9781372f",
   "metadata": {},
   "outputs": [
    {
     "name": "stdout",
     "output_type": "stream",
     "text": [
      "[1 2 3]\n"
     ]
    }
   ],
   "source": [
    "# NumPy Example 2: Creating a basic NumPy array\n",
    "import numpy as np\n",
    "arr = np.array([1, 2, 3])\n",
    "print(arr)"
   ]
  },
  {
   "cell_type": "code",
   "execution_count": 19,
   "id": "95fd46e0",
   "metadata": {},
   "outputs": [
    {
     "name": "stdout",
     "output_type": "stream",
     "text": [
      "Grouped Summary:\n",
      "          Value\n",
      "Category       \n",
      "A            25\n",
      "B            45\n",
      "C            30\n"
     ]
    }
   ],
   "source": [
    "# Pandas GroupBy Example: Summarize data by category\n",
    "import pandas as pd\n",
    "data = {'Category': ['A', 'B', 'A', 'B', 'C'], 'Value': [10, 20, 15, 25, 30]}\n",
    "df = pd.DataFrame(data)\n",
    "grouped = df.groupby('Category').sum()\n",
    "print('Grouped Summary:')\n",
    "print(grouped)"
   ]
  },
  {
   "cell_type": "code",
   "execution_count": 20,
   "id": "b5b7ed77",
   "metadata": {},
   "outputs": [
    {
     "name": "stdout",
     "output_type": "stream",
     "text": [
      "   X\n",
      "0  1\n",
      "1  2\n",
      "2  3\n"
     ]
    }
   ],
   "source": [
    "# Pandas Head Example: Display first few rows\n",
    "import pandas as pd\n",
    "df = pd.DataFrame({'X': [1, 2, 3, 4, 5]})\n",
    "print(df.head(3))"
   ]
  },
  {
   "cell_type": "code",
   "execution_count": null,
   "id": "c515227b",
   "metadata": {},
   "outputs": [
    {
     "name": "stdout",
     "output_type": "stream",
     "text": [
      "Dot product result:\n",
      " [[19 22]\n",
      " [43 50]]\n"
     ]
    }
   ],
   "source": [
    "# NumPy Dot Product Example: Calculate dot product of two matrices\n",
    "import numpy as np\n",
    "matrix1 = np.array([[1, 2], [3, 4]])\n",
    "matrix2 = np.array([[5, 6], [7, 8]])\n",
    "result = np.dot(matrix1, matrix2)\n",
    "print('Dot product result:\\n', result)."
   ]
  },
  {
   "cell_type": "code",
   "execution_count": 22,
   "id": "31dc2cfb",
   "metadata": {},
   "outputs": [
    {
     "name": "stdout",
     "output_type": "stream",
     "text": [
      "[[0 1 2]\n",
      " [3 4 5]]\n"
     ]
    }
   ],
   "source": [
    "# NumPy Reshaping Example: Reshape an array\n",
    "import numpy as np\n",
    "arr = np.arange(6)\n",
    "print(arr.reshape(2, 3))"
   ]
  },
  {
   "cell_type": "code",
   "execution_count": null,
   "id": "9eed12f0",
   "metadata": {},
   "outputs": [
    {
     "name": "stdout",
     "output_type": "stream",
     "text": [
      "Mean: 0.06204321102760048\n",
      "Std Deviation: 0.9948475048661054\n"
     ]
    }
   ],
   "source": [
    "# NumPy Random Example: Generate random numbers and compute statistics\n",
    "import numpy as np\n",
    "data = np.random.normal(loc=0, scale=1, size=1000)\n",
    "print('Mean:', np.mean(data))\n",
    "print('Std Deviation:', np.std(data))"
   ]
  },
  {
   "cell_type": "code",
   "execution_count": 24,
   "id": "6cf658ea",
   "metadata": {},
   "outputs": [
    {
     "name": "stdout",
     "output_type": "stream",
     "text": [
      "Sum: 10\n"
     ]
    }
   ],
   "source": [
    "# NumPy Sum Example: Sum array elements\n",
    "import numpy as np\n",
    "arr = np.array([1, 2, 3, 4])\n",
    "print('Sum:', np.sum(arr))"
   ]
  },
  {
   "cell_type": "code",
   "execution_count": 25,
   "id": "3b7b2afd",
   "metadata": {},
   "outputs": [
    {
     "name": "stdout",
     "output_type": "stream",
     "text": [
      "Python loop time: 0.27695 seconds\n",
      "NumPy time:       0.02999 seconds\n",
      "\n",
      "NumPy is about 9.2x faster!\n"
     ]
    }
   ],
   "source": [
    "# Numpy efficiency compared to classic lists\n",
    "import numpy as np\n",
    "import time\n",
    "\n",
    "# Set up\n",
    "size = 10_000_000\n",
    "a = list(range(size))\n",
    "b = list(range(size))\n",
    "\n",
    "# Pure Python loop\n",
    "start = time.time()\n",
    "c = [x + y for x, y in zip(a, b)]\n",
    "python_time = time.time() - start\n",
    "print(f\"Python loop time: {python_time:.5f} seconds\")\n",
    "\n",
    "# NumPy vectorized addition\n",
    "a_np = np.arange(size)\n",
    "b_np = np.arange(size)\n",
    "\n",
    "start = time.time()\n",
    "c_np = a_np + b_np\n",
    "numpy_time = time.time() - start\n",
    "print(f\"NumPy time:       {numpy_time:.5f} seconds\")\n",
    "\n",
    "# Compare\n",
    "speedup = python_time / numpy_time\n",
    "print(f\"\\nNumPy is about {speedup:.1f}x faster!\")\n"
   ]
  },
  {
   "cell_type": "markdown",
   "id": "db0e37a4",
   "metadata": {},
   "source": [
    "## Section 5: Data Visualization with Seaborn and Matplotlib\n",
    "\n",
    "Visualizing data helps to get insights faster."
   ]
  },
  {
   "cell_type": "code",
   "execution_count": 26,
   "id": "a5412630",
   "metadata": {},
   "outputs": [
    {
     "data": {
      "image/png": "[encoded data removed]",
      "text/plain": [
       "<Figure size 640x480 with 1 Axes>"
      ]
     },
     "metadata": {},
     "output_type": "display_data"
    }
   ],
   "source": [
    "# Data Visualization Example 1: Scatter plot using Seaborn\n",
    "import seaborn as sns\n",
    "import matplotlib.pyplot as plt\n",
    "\n",
    "tips = sns.load_dataset('tips')\n",
    "sns.scatterplot(data=tips, x='total_bill', y='tip', hue='time')\n",
    "plt.title('Tips Scatter Plot')\n",
    "plt.show()"
   ]
  },
  {
   "cell_type": "code",
   "execution_count": 27,
   "id": "cc76d819",
   "metadata": {},
   "outputs": [
    {
     "data": {
      "image/png": "[encoded data removed]",
      "text/plain": [
       "<Figure size 640x480 with 1 Axes>"
      ]
     },
     "metadata": {},
     "output_type": "display_data"
    }
   ],
   "source": [
    "# Data Visualization Example 2: Quick line plot with matplotlib\n",
    "import matplotlib.pyplot as plt\n",
    "plt.plot([1, 2, 3], [1, 3, 9])\n",
    "plt.show()"
   ]
  },
  {
   "cell_type": "markdown",
   "id": "a282e3c5",
   "metadata": {},
   "source": [
    "## Section 6: HTTPS and the Requests Library\n",
    "\n",
    "Learn to send HTTP requests and work with responses."
   ]
  },
  {
   "cell_type": "code",
   "execution_count": 28,
   "id": "c7c261b9",
   "metadata": {},
   "outputs": [
    {
     "name": "stdout",
     "output_type": "stream",
     "text": [
      "Status: 200\n",
      "Headers: {'Date': 'Mon, 23 Jun 2025 11:51:26 GMT', 'Content-Type': 'application/json; charset=utf-8', 'Cache-Control': 'public, max-age=60, s-maxage=60', 'Vary': 'Accept,Accept-Encoding, Accept, X-Requested-With', 'ETag': 'W/\"4f825cc84e1c733059d46e76e6df9db557ae5254f9625dfe8e1b09499c449438\"', 'X-GitHub-Media-Type': 'github.v3; format=json', 'x-github-api-version-selected': '2022-11-28', 'Access-Control-Expose-Headers': 'ETag, Link, Location, Retry-After, X-GitHub-OTP, X-RateLimit-Limit, X-RateLimit-Remaining, X-RateLimit-Used, X-RateLimit-Resource, X-RateLimit-Reset, X-OAuth-Scopes, X-Accepted-OAuth-Scopes, X-Poll-Interval, X-GitHub-Media-Type, X-GitHub-SSO, X-GitHub-Request-Id, Deprecation, Sunset', 'Access-Control-Allow-Origin': '*', 'Strict-Transport-Security': 'max-age=31536000; includeSubdomains; preload', 'X-Frame-Options': 'deny', 'X-Content-Type-Options': 'nosniff', 'X-XSS-Protection': '0', 'Referrer-Policy': 'origin-when-cross-origin, strict-origin-when-cross-origin', 'Content-Security-Policy': \"default-src 'none'\", 'Content-Encoding': 'gzip', 'Server': 'github.com', 'Accept-Ranges': 'bytes', 'X-RateLimit-Limit': '60', 'X-RateLimit-Remaining': '57', 'X-RateLimit-Reset': '1750682541', 'X-RateLimit-Resource': 'core', 'X-RateLimit-Used': '3', 'Content-Length': '510', 'X-GitHub-Request-Id': 'E821:3845A3:D95CB96:E030BF5:68593FBE'}\n"
     ]
    }
   ],
   "source": [
    "# HTTPS Example 1: GET request to an HTTPS endpoint\n",
    "import requests\n",
    "response = requests.get('https://api.github.com')\n",
    "print('Status:', response.status_code)\n",
    "print('Headers:', response.headers)"
   ]
  },
  {
   "cell_type": "code",
   "execution_count": 29,
   "id": "9cebabf7",
   "metadata": {},
   "outputs": [
    {
     "name": "stdout",
     "output_type": "stream",
     "text": [
      "GitHub API status: 200\n"
     ]
    }
   ],
   "source": [
    "# HTTPS Example 2: Quick GET request status\n",
    "import requests\n",
    "print('GitHub API status:', requests.get('https://api.github.com').status_code)"
   ]
  },
  {
   "cell_type": "code",
   "execution_count": 30,
   "id": "bdd48292",
   "metadata": {},
   "outputs": [
    {
     "name": "stdout",
     "output_type": "stream",
     "text": [
      "Response JSON: {'args': {}, 'data': '{\"name\": \"John\", \"age\": 29}', 'files': {}, 'form': {}, 'headers': {'Accept': '*/*', 'Accept-Encoding': 'gzip, deflate, br, zstd', 'Content-Length': '27', 'Content-Type': 'application/json', 'Host': 'httpbin.org', 'User-Agent': 'python-requests/2.32.2', 'X-Amzn-Trace-Id': 'Root=1-68593fbf-138356cb41468a0a2d375a4f'}, 'json': {'age': 29, 'name': 'John'}, 'origin': '82.78.232.47', 'url': 'https://httpbin.org/post'}\n"
     ]
    }
   ],
   "source": [
    "# HTTPS Example 3: POST request with JSON payload\n",
    "import requests\n",
    "payload = {'name': 'John', 'age': 29}\n",
    "response = requests.post('https://httpbin.org/post', json=payload)\n",
    "print('Response JSON:', response.json())"
   ]
  },
  {
   "cell_type": "code",
   "execution_count": 31,
   "id": "9b7a78b8",
   "metadata": {},
   "outputs": [
    {
     "name": "stdout",
     "output_type": "stream",
     "text": [
      "Status: 200\n"
     ]
    }
   ],
   "source": [
    "# HTTPS Example 4: GET request with httpbin\n",
    "import requests\n",
    "response = requests.get('https://httpbin.org/get')\n",
    "print('Status:', response.status_code)"
   ]
  },
  {
   "cell_type": "code",
   "execution_count": 32,
   "id": "9a71821e",
   "metadata": {},
   "outputs": [
    {
     "name": "stdout",
     "output_type": "stream",
     "text": [
      "Request failed: HTTPSConnectionPool(host='nonexistent.domain', port=443): Max retries exceeded with url: / (Caused by NameResolutionError(\"<urllib3.connection.HTTPSConnection object at 0x3761697c0>: Failed to resolve 'nonexistent.domain' ([Errno 8] nodename nor servname provided, or not known)\"))\n"
     ]
    }
   ],
   "source": [
    "# HTTPS Example 5: Request with exception handling\n",
    "import requests\n",
    "try:\n",
    "    response = requests.get('https://nonexistent.domain')\n",
    "    response.raise_for_status()\n",
    "except requests.RequestException as e:\n",
    "    print('Request failed:', e)"
   ]
  },
  {
   "cell_type": "code",
   "execution_count": 33,
   "id": "82a429e5",
   "metadata": {},
   "outputs": [
    {
     "name": "stdout",
     "output_type": "stream",
     "text": [
      "{\n",
      "  \"args\": {}, \n",
      "  \"headers\": {\n",
      "    \"Accept\": \"*/*\", \n",
      "    \"Accept-Encoding\": \"gzip, deflate, br, zst\n"
     ]
    }
   ],
   "source": [
    "# HTTPS Example 6: Print first 100 characters of GET response\n",
    "import requests\n",
    "response = requests.get('https://httpbin.org/get')\n",
    "print(response.text[:100])"
   ]
  },
  {
   "cell_type": "markdown",
   "id": "a53b0fc3",
   "metadata": {},
   "source": [
    "## Section 7: Testing with Pytest (in Notebook)\n",
    "\n",
    "We simulate pytest-style testing using assertions."
   ]
  },
  {
   "cell_type": "code",
   "execution_count": 34,
   "id": "b963454f",
   "metadata": {},
   "outputs": [
    {
     "name": "stdout",
     "output_type": "stream",
     "text": [
      "Addition tests passed!\n"
     ]
    }
   ],
   "source": [
    "# Pytest Example 1: Testing an addition function\n",
    "def add(a, b):\n",
    "    return a + b\n",
    "\n",
    "def test_add():\n",
    "    assert add(2, 3) == 5\n",
    "    assert add(-1, 1) == 0\n",
    "\n",
    "test_add()\n",
    "print('Addition tests passed!')"
   ]
  },
  {
   "cell_type": "code",
   "execution_count": 35,
   "id": "22ff6ccb",
   "metadata": {},
   "outputs": [
    {
     "name": "stdout",
     "output_type": "stream",
     "text": [
      "Multiplication test passed!\n"
     ]
    }
   ],
   "source": [
    "# Pytest Example 2: Quick assertion test for multiplication\n",
    "def multiply(a, b):\n",
    "    return a * b\n",
    "\n",
    "assert multiply(3, 4) == 12\n",
    "print('Multiplication test passed!')"
   ]
  },
  {
   "cell_type": "markdown",
   "id": "d1e47bee",
   "metadata": {},
   "source": [
    "## Section 8: Data Validation with Pydantic\n",
    "\n",
    "Validate data models using Pydantic."
   ]
  },
  {
   "cell_type": "code",
   "execution_count": null,
   "id": "d0260b3f",
   "metadata": {},
   "outputs": [
    {
     "name": "stdout",
     "output_type": "stream",
     "text": [
      "Validation error: 1 validation error for User\n",
      "age\n",
      "  Input should be a valid integer, unable to parse string as an integer [type=int_parsing, input_value='twenty', input_type=str]\n",
      "    For further information visit https://errors.pydantic.dev/2.5/v/int_parsing\n"
     ]
    }
   ],
   "source": [
    "# Pydantic Example 1: Model validation\n",
    "from pydantic import BaseModel, ValidationError\n",
    "\n",
    "class User(BaseModel):\n",
    "    id: int\n",
    "    name: str\n",
    "    age: int\n",
    "\n",
    "try:\n",
    "    user = User(id=1, name='Bob', age='twenty')\n",
    "except ValidationError as e:\n",
    "    print('Validation error:', e)"
   ]
  },
  {
   "cell_type": "code",
   "execution_count": 37,
   "id": "d0f2efb9",
   "metadata": {},
   "outputs": [
    {
     "name": "stdout",
     "output_type": "stream",
     "text": [
      "id=101 price=19.99\n"
     ]
    }
   ],
   "source": [
    "# Pydantic Example 2: Simple model validation\n",
    "from pydantic import BaseModel\n",
    "\n",
    "class Item(BaseModel):\n",
    "    id: int\n",
    "    price: float\n",
    "\n",
    "item = Item(id=101, price=19.99)\n",
    "print(item)"
   ]
  },
  {
   "cell_type": "code",
   "execution_count": 38,
   "id": "145d7e21",
   "metadata": {},
   "outputs": [
    {
     "name": "stdout",
     "output_type": "stream",
     "text": [
      "Person: name='Charlie' address=Address(street='123 Main St', city='Metropolis')\n"
     ]
    }
   ],
   "source": [
    "# Pydantic Example 3: Nested model validation\n",
    "from pydantic import BaseModel\n",
    "\n",
    "class Address(BaseModel):\n",
    "    street: str\n",
    "    city: str\n",
    "\n",
    "class Person(BaseModel):\n",
    "    name: str\n",
    "    address: Address\n",
    "\n",
    "data = {\"name\": \"Charlie\", \"address\": {\"street\": \"123 Main St\", \"city\": \"Metropolis\"}}\n",
    "person = Person(**data)\n",
    "print('Person:', person)"
   ]
  },
  {
   "cell_type": "code",
   "execution_count": 39,
   "id": "e01b101a",
   "metadata": {},
   "outputs": [
    {
     "name": "stdout",
     "output_type": "stream",
     "text": [
      "id=10 name='Widget'\n"
     ]
    }
   ],
   "source": [
    "# Pydantic Example 4: Another simple model\n",
    "from pydantic import BaseModel\n",
    "\n",
    "class Product(BaseModel):\n",
    "    id: int\n",
    "    name: str\n",
    "\n",
    "product = Product(id=10, name='Widget')\n",
    "print(product)"
   ]
  },
  {
   "cell_type": "markdown",
   "id": "fae9a94f",
   "metadata": {},
   "source": [
    "## Section 9: Hugging Face Pipelines\n",
    "\n",
    "Use modern NLP pipelines for tasks such as sentiment analysis, text generation, and named entity recognition."
   ]
  },
  {
   "cell_type": "code",
   "execution_count": 40,
   "id": "37390167",
   "metadata": {},
   "outputs": [
    {
     "name": "stderr",
     "output_type": "stream",
     "text": [
      "No model was supplied, defaulted to distilbert/distilbert-base-uncased-finetuned-sst-2-english and revision 714eb0f (https://huggingface.co/distilbert/distilbert-base-uncased-finetuned-sst-2-english).\n",
      "Using a pipeline without specifying a model name and revision in production is not recommended.\n",
      "Device set to use mps:0\n"
     ]
    },
    {
     "name": "stdout",
     "output_type": "stream",
     "text": [
      "Sentiment: [{'label': 'POSITIVE', 'score': 0.9988589286804199}]\n"
     ]
    }
   ],
   "source": [
    "# Hugging Face Example 1: Sentiment analysis\n",
    "from transformers import pipeline\n",
    "\n",
    "sentiment_classifier = pipeline('sentiment-analysis')\n",
    "result = sentiment_classifier('I love using Python for data science!')\n",
    "print('Sentiment:', result)"
   ]
  },
  {
   "cell_type": "code",
   "execution_count": 41,
   "id": "5d85c3b7",
   "metadata": {},
   "outputs": [
    {
     "name": "stderr",
     "output_type": "stream",
     "text": [
      "No model was supplied, defaulted to distilbert/distilbert-base-uncased-finetuned-sst-2-english and revision 714eb0f (https://huggingface.co/distilbert/distilbert-base-uncased-finetuned-sst-2-english).\n",
      "Using a pipeline without specifying a model name and revision in production is not recommended.\n",
      "Device set to use mps:0\n"
     ]
    },
    {
     "name": "stdout",
     "output_type": "stream",
     "text": [
      "[{'label': 'POSITIVE', 'score': 0.9998772144317627}]\n"
     ]
    }
   ],
   "source": [
    "# Hugging Face Example 2: Quick sentiment analysis\n",
    "from transformers import pipeline\n",
    "print(pipeline('sentiment-analysis')('Python is amazing!'))"
   ]
  },
  {
   "cell_type": "code",
   "execution_count": 42,
   "id": "35b5a5f0",
   "metadata": {},
   "outputs": [
    {
     "name": "stderr",
     "output_type": "stream",
     "text": [
      "Device set to use mps:0\n",
      "Truncation was not explicitly activated but `max_length` is provided a specific value, please use `truncation=True` to explicitly truncate examples to max length. Defaulting to 'longest_first' truncation strategy. If you encode pairs of sequences (GLUE-style) with the tokenizer you can select this strategy more precisely by providing a specific strategy to `truncation`.\n",
      "Setting `pad_token_id` to `eos_token_id`:50256 for open-end generation.\n",
      "/opt/anaconda3/lib/python3.12/site-packages/transformers/pytorch_utils.py:338: UserWarning: To copy construct from a tensor, it is recommended to use sourceTensor.clone().detach() or sourceTensor.clone().detach().requires_grad_(True), rather than torch.tensor(sourceTensor).\n",
      "  test_elements = torch.tensor(test_elements)\n"
     ]
    },
    {
     "name": "stdout",
     "output_type": "stream",
     "text": [
      "Generated text: [{'generated_text': \"In a world of code, \\xa0A lot is made of people who believe that it's easier to program than it is to write code, and\"}]\n"
     ]
    }
   ],
   "source": [
    "# Hugging Face Example 3: Text generation\n",
    "from transformers import pipeline\n",
    "generator = pipeline('text-generation', model='gpt2')\n",
    "text = generator('In a world of code, ', max_length=30, num_return_sequences=1)\n",
    "print('Generated text:', text)"
   ]
  },
  {
   "cell_type": "code",
   "execution_count": 43,
   "id": "0fb6c7a7",
   "metadata": {},
   "outputs": [
    {
     "name": "stderr",
     "output_type": "stream",
     "text": [
      "No model was supplied, defaulted to facebook/bart-large-mnli and revision d7645e1 (https://huggingface.co/facebook/bart-large-mnli).\n",
      "Using a pipeline without specifying a model name and revision in production is not recommended.\n",
      "huggingface/tokenizers: The current process just got forked, after parallelism has already been used. Disabling parallelism to avoid deadlocks...\n",
      "To disable this warning, you can either:\n",
      "\t- Avoid using `tokenizers` before the fork if possible\n",
      "\t- Explicitly set the environment variable TOKENIZERS_PARALLELISM=(true | false)\n"
     ]
    },
    {
     "data": {
      "application/vnd.jupyter.widget-view+json": {
       "model_id": "5e90cbd496cd48ddb5b3de1956ef68f6",
       "version_major": 2,
       "version_minor": 0
      },
      "text/plain": [
       "config.json:   0%|          | 0.00/1.15k [00:00<?, ?B/s]"
      ]
     },
     "metadata": {},
     "output_type": "display_data"
    },
    {
     "name": "stderr",
     "output_type": "stream",
     "text": [
      "Xet Storage is enabled for this repo, but the 'hf_xet' package is not installed. Falling back to regular HTTP download. For better performance, install the package with: `pip install huggingface_hub[hf_xet]` or `pip install hf_xet`\n"
     ]
    },
    {
     "data": {
      "application/vnd.jupyter.widget-view+json": {
       "model_id": "68762a470ed7407e911c134cc1076b5c",
       "version_major": 2,
       "version_minor": 0
      },
      "text/plain": [
       "model.safetensors:   0%|          | 0.00/1.63G [00:00<?, ?B/s]"
      ]
     },
     "metadata": {},
     "output_type": "display_data"
    },
    {
     "data": {
      "application/vnd.jupyter.widget-view+json": {
       "model_id": "eef88789fb2a4cb7a027d2fc554dbf8f",
       "version_major": 2,
       "version_minor": 0
      },
      "text/plain": [
       "tokenizer_config.json:   0%|          | 0.00/26.0 [00:00<?, ?B/s]"
      ]
     },
     "metadata": {},
     "output_type": "display_data"
    },
    {
     "data": {
      "application/vnd.jupyter.widget-view+json": {
       "model_id": "b984767722b549d689efb20f8f672c73",
       "version_major": 2,
       "version_minor": 0
      },
      "text/plain": [
       "vocab.json:   0%|          | 0.00/899k [00:00<?, ?B/s]"
      ]
     },
     "metadata": {},
     "output_type": "display_data"
    },
    {
     "data": {
      "application/vnd.jupyter.widget-view+json": {
       "model_id": "9eb15a5d723543949278a1485006f7f8",
       "version_major": 2,
       "version_minor": 0
      },
      "text/plain": [
       "merges.txt:   0%|          | 0.00/456k [00:00<?, ?B/s]"
      ]
     },
     "metadata": {},
     "output_type": "display_data"
    },
    {
     "data": {
      "application/vnd.jupyter.widget-view+json": {
       "model_id": "8758ad0f1d2f4bc9b2bc1b56727f58d0",
       "version_major": 2,
       "version_minor": 0
      },
      "text/plain": [
       "tokenizer.json:   0%|          | 0.00/1.36M [00:00<?, ?B/s]"
      ]
     },
     "metadata": {},
     "output_type": "display_data"
    },
    {
     "name": "stderr",
     "output_type": "stream",
     "text": [
      "Device set to use mps:0\n"
     ]
    },
    {
     "name": "stdout",
     "output_type": "stream",
     "text": [
      "{'sequence': 'I love programming.', 'labels': ['technology', 'sports'], 'scores': [0.9581320285797119, 0.04186799004673958]}\n"
     ]
    }
   ],
   "source": [
    "# Hugging Face Example 4: Zero-shot classification\n",
    "from transformers import pipeline\n",
    "classifier = pipeline('zero-shot-classification')\n",
    "result = classifier('I love programming.', candidate_labels=['technology', 'sports'])\n",
    "print(result)"
   ]
  },
  {
   "cell_type": "code",
   "execution_count": 44,
   "id": "82f62f1c",
   "metadata": {},
   "outputs": [
    {
     "name": "stderr",
     "output_type": "stream",
     "text": [
      "No model was supplied, defaulted to dbmdz/bert-large-cased-finetuned-conll03-english and revision 4c53496 (https://huggingface.co/dbmdz/bert-large-cased-finetuned-conll03-english).\n",
      "Using a pipeline without specifying a model name and revision in production is not recommended.\n"
     ]
    },
    {
     "data": {
      "application/vnd.jupyter.widget-view+json": {
       "model_id": "a5d165cc83124e6495e533204dd1ead6",
       "version_major": 2,
       "version_minor": 0
      },
      "text/plain": [
       "config.json:   0%|          | 0.00/998 [00:00<?, ?B/s]"
      ]
     },
     "metadata": {},
     "output_type": "display_data"
    },
    {
     "name": "stderr",
     "output_type": "stream",
     "text": [
      "Xet Storage is enabled for this repo, but the 'hf_xet' package is not installed. Falling back to regular HTTP download. For better performance, install the package with: `pip install huggingface_hub[hf_xet]` or `pip install hf_xet`\n"
     ]
    },
    {
     "data": {
      "application/vnd.jupyter.widget-view+json": {
       "model_id": "aa2880c36be64114add47c063ec1f362",
       "version_major": 2,
       "version_minor": 0
      },
      "text/plain": [
       "model.safetensors:   0%|          | 0.00/1.33G [00:00<?, ?B/s]"
      ]
     },
     "metadata": {},
     "output_type": "display_data"
    },
    {
     "name": "stderr",
     "output_type": "stream",
     "text": [
      "Some weights of the model checkpoint at dbmdz/bert-large-cased-finetuned-conll03-english were not used when initializing BertForTokenClassification: ['bert.pooler.dense.bias', 'bert.pooler.dense.weight']\n",
      "- This IS expected if you are initializing BertForTokenClassification from the checkpoint of a model trained on another task or with another architecture (e.g. initializing a BertForSequenceClassification model from a BertForPreTraining model).\n",
      "- This IS NOT expected if you are initializing BertForTokenClassification from the checkpoint of a model that you expect to be exactly identical (initializing a BertForSequenceClassification model from a BertForSequenceClassification model).\n"
     ]
    },
    {
     "data": {
      "application/vnd.jupyter.widget-view+json": {
       "model_id": "dbea7e97c8d74fa2abca254212e6c767",
       "version_major": 2,
       "version_minor": 0
      },
      "text/plain": [
       "tokenizer_config.json:   0%|          | 0.00/60.0 [00:00<?, ?B/s]"
      ]
     },
     "metadata": {},
     "output_type": "display_data"
    },
    {
     "data": {
      "application/vnd.jupyter.widget-view+json": {
       "model_id": "75756b9f1b1344f59f2c643a14b2bc80",
       "version_major": 2,
       "version_minor": 0
      },
      "text/plain": [
       "vocab.txt:   0%|          | 0.00/213k [00:00<?, ?B/s]"
      ]
     },
     "metadata": {},
     "output_type": "display_data"
    },
    {
     "name": "stderr",
     "output_type": "stream",
     "text": [
      "Device set to use mps:0\n",
      "/opt/anaconda3/lib/python3.12/site-packages/transformers/pipelines/token_classification.py:170: UserWarning: `grouped_entities` is deprecated and will be removed in version v5.0.0, defaulted to `aggregation_strategy=\"AggregationStrategy.SIMPLE\"` instead.\n",
      "  warnings.warn(\n"
     ]
    },
    {
     "name": "stdout",
     "output_type": "stream",
     "text": [
      "Named Entities: [{'entity_group': 'PER', 'score': 0.9937253, 'word': 'John Doe', 'start': 0, 'end': 8}, {'entity_group': 'ORG', 'score': 0.99476963, 'word': 'OpenAI', 'start': 18, 'end': 24}, {'entity_group': 'LOC', 'score': 0.9985171, 'word': 'San Francisco', 'start': 28, 'end': 41}]\n"
     ]
    }
   ],
   "source": [
    "# Hugging Face Example 5: Named entity recognition\n",
    "from transformers import pipeline\n",
    "ner = pipeline('ner', grouped_entities=True)\n",
    "text = 'John Doe works at OpenAI in San Francisco.'\n",
    "print('Named Entities:', ner(text))"
   ]
  },
  {
   "cell_type": "code",
   "execution_count": null,
   "id": "6428be48",
   "metadata": {},
   "outputs": [
    {
     "name": "stderr",
     "output_type": "stream",
     "text": [
      "No model was supplied, defaulted to sshleifer/distilbart-cnn-12-6 and revision a4f8f3e (https://huggingface.co/sshleifer/distilbart-cnn-12-6).\n",
      "Using a pipeline without specifying a model name and revision in production is not recommended.\n"
     ]
    },
    {
     "data": {
      "application/vnd.jupyter.widget-view+json": {
       "model_id": "09fa3d69e84e43769d9b7c5476ea7064",
       "version_major": 2,
       "version_minor": 0
      },
      "text/plain": [
       "config.json:   0%|          | 0.00/1.80k [00:00<?, ?B/s]"
      ]
     },
     "metadata": {},
     "output_type": "display_data"
    },
    {
     "data": {
      "application/vnd.jupyter.widget-view+json": {
       "model_id": "75c78a33316140288bbe7a2b642a0353",
       "version_major": 2,
       "version_minor": 0
      },
      "text/plain": [
       "pytorch_model.bin:   0%|          | 0.00/1.22G [00:00<?, ?B/s]"
      ]
     },
     "metadata": {},
     "output_type": "display_data"
    },
    {
     "data": {
      "application/vnd.jupyter.widget-view+json": {
       "model_id": "be44c2c4fb27478e8f6d36b9487ede29",
       "version_major": 2,
       "version_minor": 0
      },
      "text/plain": [
       "tokenizer_config.json:   0%|          | 0.00/26.0 [00:00<?, ?B/s]"
      ]
     },
     "metadata": {},
     "output_type": "display_data"
    },
    {
     "data": {
      "application/vnd.jupyter.widget-view+json": {
       "model_id": "bc0cae6fed254942acad675dd6655465",
       "version_major": 2,
       "version_minor": 0
      },
      "text/plain": [
       "vocab.json:   0%|          | 0.00/899k [00:00<?, ?B/s]"
      ]
     },
     "metadata": {},
     "output_type": "display_data"
    },
    {
     "data": {
      "application/vnd.jupyter.widget-view+json": {
       "model_id": "edf4cf4120664efc9a1d528f002bebff",
       "version_major": 2,
       "version_minor": 0
      },
      "text/plain": [
       "model.safetensors:   0%|          | 0.00/1.22G [00:00<?, ?B/s]"
      ]
     },
     "metadata": {},
     "output_type": "display_data"
    },
    {
     "data": {
      "application/vnd.jupyter.widget-view+json": {
       "model_id": "1251cf6b2a4f4d44bd5834453e2c3a14",
       "version_major": 2,
       "version_minor": 0
      },
      "text/plain": [
       "merges.txt:   0%|          | 0.00/456k [00:00<?, ?B/s]"
      ]
     },
     "metadata": {},
     "output_type": "display_data"
    },
    {
     "name": "stderr",
     "output_type": "stream",
     "text": [
      "Device set to use mps:0\n",
      "Your max_length is set to 30, but your input_length is only 14. Since this is a summarization task, where outputs shorter than the input are typically wanted, you might consider decreasing max_length manually, e.g. summarizer('...', max_length=7)\n"
     ]
    },
    {
     "name": "stdout",
     "output_type": "stream",
     "text": [
      "Summary: [{'summary_text': ' Python is a powerful language with a wide range of libraries . Python is the language of programming languages that can be used in Python . Python'}]\n"
     ]
    }
   ],
   "source": [
    "# Hugging Face Example 6: Summarization (quick)\n",
    "from transformers import pipeline\n",
    "summarizer = pipeline('summarization')\n",
    "result = summarizer('Python is a powerful language with a wide range of libraries.', max_length=10, min_length=5, do_sample=False)\n",
    "print('Summary:', result)"
   ]
  },
  {
   "cell_type": "markdown",
   "id": "6011dd31",
   "metadata": {},
   "source": [
    "## Section 10: Mixed Exercises – Combining Multiple Libraries\n",
    "\n",
    "The following 15 exercises mix different libraries together. They are designed to challenge you and show how various tools can work in concert."
   ]
  },
  {
   "cell_type": "code",
   "execution_count": 46,
   "id": "4a9beea8",
   "metadata": {},
   "outputs": [
    {
     "name": "stdout",
     "output_type": "stream",
     "text": [
      "Mean: 49.500447141791916\n",
      "DataFrame Head:\n",
      "      values\n",
      "0  45.274561\n",
      "1  31.878171\n",
      "2  58.395333\n",
      "3  53.990362\n",
      "4  39.553233\n"
     ]
    }
   ],
   "source": [
    "# Mixed Exercise 1: Create a DataFrame from NumPy random data and compute statistics\n",
    "import numpy as np\n",
    "import pandas as pd\n",
    "\n",
    "data = np.random.normal(loc=50, scale=10, size=100)\n",
    "df = pd.DataFrame({'values': data})\n",
    "print('Mean:', np.mean(data))\n",
    "print('DataFrame Head:')\n",
    "print(df.head())"
   ]
  },
  {
   "cell_type": "code",
   "execution_count": 47,
   "id": "748b3b8f",
   "metadata": {},
   "outputs": [
    {
     "name": "stdout",
     "output_type": "stream",
     "text": [
      "File exists? True\n"
     ]
    }
   ],
   "source": [
    "# Mixed Exercise 2: Write a dictionary to JSON, check file existence using os\n",
    "import json, os\n",
    "data = {'status': 'ok', 'code': 200}\n",
    "filename = 'exercise2.json'\n",
    "with open(filename, 'w') as f:\n",
    "    json.dump(data, f)\n",
    "print('File exists?', os.path.exists(filename))"
   ]
  },
  {
   "cell_type": "code",
   "execution_count": 48,
   "id": "a3ef448c",
   "metadata": {},
   "outputs": [
    {
     "name": "stdout",
     "output_type": "stream",
     "text": [
      "         Key                                              Value\n",
      "0  slideshow  {'author': 'Yours Truly', 'date': 'date of pub...\n"
     ]
    }
   ],
   "source": [
    "# Mixed Exercise 3: Fetch JSON from an API with requests and load it into a DataFrame\n",
    "import requests\n",
    "import pandas as pd\n",
    "\n",
    "response = requests.get('https://httpbin.org/json')\n",
    "data = response.json()\n",
    "df = pd.DataFrame(list(data.items()), columns=['Key', 'Value'])\n",
    "print(df.head())"
   ]
  },
  {
   "cell_type": "code",
   "execution_count": 49,
   "id": "8e94100a",
   "metadata": {},
   "outputs": [
    {
     "name": "stdout",
     "output_type": "stream",
     "text": [
      "Extracted: ['support@example.com']\n"
     ]
    }
   ],
   "source": [
    "# Mixed Exercise 4: Use regex to extract emails from JSON string content\n",
    "import re, json\n",
    "json_str = '{\"contact\": \"Email us at support@example.com for info.\"}'\n",
    "data = json.loads(json_str)\n",
    "emails = re.findall(r'[\\w\\.-]+@[\\w\\.-]+', data['contact'])\n",
    "print('Extracted:', emails)"
   ]
  },
  {
   "cell_type": "code",
   "execution_count": 50,
   "id": "69d03c9a",
   "metadata": {},
   "outputs": [
    {
     "name": "stdout",
     "output_type": "stream",
     "text": [
      "Handled error: HTTPSConnectionPool(host='nonexistent.example.com', port=443): Max retries exceeded with url: / (Caused by NameResolutionError(\"<urllib3.connection.HTTPSConnection object at 0x375a22840>: Failed to resolve 'nonexistent.example.com' ([Errno 8] nodename nor servname provided, or not known)\"))\n"
     ]
    }
   ],
   "source": [
    "# Mixed Exercise 5: Combine try/except and requests for a failing URL\n",
    "import requests\n",
    "try:\n",
    "    response = requests.get('https://nonexistent.example.com')\n",
    "    response.raise_for_status()\n",
    "except requests.RequestException as err:\n",
    "    print('Handled error:', err)"
   ]
  },
  {
   "cell_type": "code",
   "execution_count": 51,
   "id": "15401bd5",
   "metadata": {},
   "outputs": [
    {
     "name": "stdout",
     "output_type": "stream",
     "text": [
      "id=5 status='active'\n"
     ]
    }
   ],
   "source": [
    "# Mixed Exercise 6: Validate loaded JSON data with a pydantic model\n",
    "from pydantic import BaseModel\n",
    "import json\n",
    "\n",
    "class DataModel(BaseModel):\n",
    "    id: int\n",
    "    status: str\n",
    "\n",
    "json_data = '{\"id\": 5, \"status\": \"active\"}'\n",
    "data = json.loads(json_data)\n",
    "validated = DataModel(**data)\n",
    "print(validated)"
   ]
  },
  {
   "cell_type": "code",
   "execution_count": 52,
   "id": "b5985436",
   "metadata": {},
   "outputs": [
    {
     "name": "stdout",
     "output_type": "stream",
     "text": [
      "Grouping result:\n",
      "          values\n",
      "group           \n",
      "A      50.197420\n",
      "B      49.740550\n",
      "C      48.949107\n",
      "Operation took (s): 0.009709833015222102\n"
     ]
    }
   ],
   "source": [
    "# Mixed Exercise 7: Profile a pandas groupby operation on DataFrame created from numpy data\n",
    "import numpy as np\n",
    "import pandas as pd\n",
    "import time\n",
    "\n",
    "data = np.random.randint(0, 100, size=10000)\n",
    "df = pd.DataFrame({'values': data, 'group': np.random.choice(['A', 'B', 'C'], size=10000)})\n",
    "start = time.perf_counter()\n",
    "grouped = df.groupby('group').mean()\n",
    "end = time.perf_counter()\n",
    "print('Grouping result:')\n",
    "print(grouped)\n",
    "print('Operation took (s):', end - start)"
   ]
  },
  {
   "cell_type": "code",
   "execution_count": 53,
   "id": "b49fea11",
   "metadata": {},
   "outputs": [
    {
     "data": {
      "image/png": "[encoded data removed]",
      "text/plain": [
       "<Figure size 640x480 with 1 Axes>"
      ]
     },
     "metadata": {},
     "output_type": "display_data"
    }
   ],
   "source": [
    "# Mixed Exercise 8: Visualize aggregated data from a DataFrame with matplotlib\n",
    "import pandas as pd\n",
    "import matplotlib.pyplot as plt\n",
    "df = pd.DataFrame({'group': ['A', 'B', 'C'], 'score': [85, 90, 78]})\n",
    "plt.bar(df['group'], df['score'])\n",
    "plt.title('Group Scores')\n",
    "plt.show()"
   ]
  },
  {
   "cell_type": "code",
   "execution_count": 54,
   "id": "f5096f40",
   "metadata": {},
   "outputs": [
    {
     "name": "stderr",
     "output_type": "stream",
     "text": [
      "No model was supplied, defaulted to distilbert/distilbert-base-uncased-finetuned-sst-2-english and revision 714eb0f (https://huggingface.co/distilbert/distilbert-base-uncased-finetuned-sst-2-english).\n",
      "Using a pipeline without specifying a model name and revision in production is not recommended.\n",
      "Device set to use mps:0\n"
     ]
    },
    {
     "name": "stdout",
     "output_type": "stream",
     "text": [
      "Sentiment: [{'label': 'POSITIVE', 'score': 0.9998408555984497}]\n"
     ]
    }
   ],
   "source": [
    "# Mixed Exercise 9: Use Hugging Face sentiment analysis within a try/except block\n",
    "from transformers import pipeline\n",
    "sentiment = pipeline('sentiment-analysis')\n",
    "try:\n",
    "    result = sentiment('This is a great workshop!')\n",
    "    print('Sentiment:', result)\n",
    "except Exception as e:\n",
    "    print('Pipeline error:', e)"
   ]
  },
  {
   "cell_type": "code",
   "execution_count": 55,
   "id": "73832962",
   "metadata": {},
   "outputs": [
    {
     "name": "stdout",
     "output_type": "stream",
     "text": [
      "Numpy mean test passed!\n"
     ]
    }
   ],
   "source": [
    "# Mixed Exercise 10: Write a simple pytest function to test a numpy-based computation\n",
    "import numpy as np\n",
    "\n",
    "def compute_mean(arr):\n",
    "    return np.mean(arr)\n",
    "\n",
    "test_arr = np.array([1, 2, 3])\n",
    "assert compute_mean(test_arr) == 2.0\n",
    "print('Numpy mean test passed!')"
   ]
  },
  {
   "cell_type": "code",
   "execution_count": 56,
   "id": "9e50afd4",
   "metadata": {},
   "outputs": [
    {
     "name": "stdout",
     "output_type": "stream",
     "text": [
      "Extracted URLs: []\n"
     ]
    }
   ],
   "source": [
    "# Mixed Exercise 11: Fetch a webpage using requests and extract all URLs with regex\n",
    "import requests, re\n",
    "response = requests.get('https://httpbin.org/html')\n",
    "urls = re.findall(r'(https?://\\S+)', response.text)\n",
    "print('Extracted URLs:', urls)"
   ]
  },
  {
   "cell_type": "code",
   "execution_count": 57,
   "id": "c0270e87",
   "metadata": {},
   "outputs": [
    {
     "name": "stdout",
     "output_type": "stream",
     "text": [
      "Error during file read/JSON parse: [Errno 2] No such file or directory: 'nonexistent.json'\n"
     ]
    }
   ],
   "source": [
    "# Mixed Exercise 12: Use try/except with file reading and JSON parsing\n",
    "try:\n",
    "    with open('nonexistent.json', 'r') as f:\n",
    "        data = json.load(f)\n",
    "except Exception as e:\n",
    "    print('Error during file read/JSON parse:', e)"
   ]
  },
  {
   "cell_type": "code",
   "execution_count": 58,
   "id": "da44e2ed",
   "metadata": {},
   "outputs": [
    {
     "name": "stdout",
     "output_type": "stream",
     "text": [
      "Words starting with H: ['Herman', 'He', 'He', 'Hadst']\n"
     ]
    }
   ],
   "source": [
    "# Mixed Exercise 13: Combine requests and regex to extract words starting with 'H' from a webpage\n",
    "import requests, re\n",
    "response = requests.get('https://httpbin.org/html')\n",
    "words = re.findall(r'\\bH\\w+', response.text)\n",
    "print('Words starting with H:', words)"
   ]
  },
  {
   "cell_type": "code",
   "execution_count": 59,
   "id": "4061a3aa",
   "metadata": {},
   "outputs": [
    {
     "name": "stdout",
     "output_type": "stream",
     "text": [
      "Path separator: /\n",
      "Timestamp: 1750679607.0759869\n"
     ]
    }
   ],
   "source": [
    "# Mixed Exercise 14: Display system path separator and current timestamp\n",
    "import os, time\n",
    "print('Path separator:', os.sep)\n",
    "print('Timestamp:', time.time())"
   ]
  },
  {
   "cell_type": "code",
   "execution_count": 60,
   "id": "87f405f4",
   "metadata": {},
   "outputs": [
    {
     "name": "stdout",
     "output_type": "stream",
     "text": [
      "DataFrame:\n",
      "   id  value\n",
      "0   1    1.5\n",
      "1   2    3.0\n",
      "2   3    4.5\n",
      "3   4    6.0\n",
      "4   5    7.5\n",
      "Average value: 8.25\n"
     ]
    },
    {
     "name": "stderr",
     "output_type": "stream",
     "text": [
      "/var/folders/m2/yhpxdyc14w14fnrkd36q_vn40000gp/T/ipykernel_83946/1701601198.py:17: PydanticDeprecatedSince20: The `dict` method is deprecated; use `model_dump` instead. Deprecated in Pydantic V2.0 to be removed in V3.0. See Pydantic V2 Migration Guide at https://errors.pydantic.dev/2.5/migration/\n",
      "  validated_records = [Record(**rec).dict() for rec in sample_data]\n"
     ]
    }
   ],
   "source": [
    "# Mixed Exercise 15: End-to-end: Fetch JSON from a URL, validate it with pydantic, load into a pandas DataFrame, and compute a statistic\n",
    "import requests\n",
    "import pandas as pd\n",
    "from pydantic import BaseModel\n",
    "\n",
    "class Record(BaseModel):\n",
    "    id: int\n",
    "    value: float\n",
    "\n",
    "response = requests.get('https://httpbin.org/json')\n",
    "data = response.json()\n",
    "# For demonstration, assume data contains a key 'slideshow' with a 'slides' list that hold numeric 'value' entries\n",
    "# We'll fabricate a sample if needed\n",
    "sample_data = [{'id': i, 'value': float(i) * 1.5} for i in range(1, 11)]\n",
    "\n",
    "# Validate each record\n",
    "validated_records = [Record(**rec).dict() for rec in sample_data]\n",
    "df = pd.DataFrame(validated_records)\n",
    "print('DataFrame:')\n",
    "print(df.head())\n",
    "print('Average value:', df['value'].mean())"
   ]
  },
  {
   "cell_type": "markdown",
   "id": "96516dfc",
   "metadata": {},
   "source": [
    "### End of Workshop Notebook\n",
    "\n",
    "You have now explored environment management, error handling, core Python modules, data manipulation, visualization, web requests, testing, data validation, NLP pipelines, and several integrated exercises that mix multiple libraries."
   ]
  }
 ],
 "metadata": {
  "kernelspec": {
   "display_name": "Python 3 (ipykernel)",
   "language": "python",
   "name": "python3"
  },
  "language_info": {
   "codemirror_mode": {
    "name": "ipython",
    "version": 3
   },
   "file_extension": ".py",
   "mimetype": "text/x-python",
   "name": "python",
   "nbconvert_exporter": "python",
   "pygments_lexer": "ipython3",
   "version": "3.12.10"
  }
 },
 "nbformat": 4,
 "nbformat_minor": 5
}
